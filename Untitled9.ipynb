{
  "nbformat": 4,
  "nbformat_minor": 0,
  "metadata": {
    "colab": {
      "provenance": [],
      "authorship_tag": "ABX9TyMByAoIiJ+NMxaihX1f2gqJ",
      "include_colab_link": true
    },
    "kernelspec": {
      "name": "python3",
      "display_name": "Python 3"
    },
    "language_info": {
      "name": "python"
    }
  },
  "cells": [
    {
      "cell_type": "markdown",
      "metadata": {
        "id": "view-in-github",
        "colab_type": "text"
      },
      "source": [
        "<a href=\"https://colab.research.google.com/github/chritson2004/Introduction-to-python/blob/main/Untitled9.ipynb\" target=\"_parent\"><img src=\"https://colab.research.google.com/assets/colab-badge.svg\" alt=\"Open In Colab\"/></a>"
      ]
    },
    {
      "cell_type": "code",
      "execution_count": 14,
      "metadata": {
        "colab": {
          "base_uri": "https://localhost:8080/"
        },
        "id": "-QGRCzTvpDDn",
        "outputId": "6664ee3d-940c-42de-ceb4-c41c65f184ac"
      },
      "outputs": [
        {
          "output_type": "stream",
          "name": "stdout",
          "text": [
            "enter the travel sourcekochi\n",
            "enter the travel destinatonmumbai\n",
            "enter the number of passengers80\n",
            "kochi\n",
            "mumbai\n",
            "80\n"
          ]
        }
      ],
      "source": [
        "travelsource=input('enter the travel source')\n",
        "traveldestination=input('enter the travel destinaton')\n",
        "number=int(input('enter the number of passengers'))\n",
        "print(travelsource)\n",
        "print(traveldestination)\n",
        "print(number)"
      ]
    },
    {
      "cell_type": "code",
      "source": [
        "x=int(input('enter the ticket price'))\n",
        "y=int(input('enter the number of persons'))\n",
        "v=x/y\n",
        "print(v)"
      ],
      "metadata": {
        "colab": {
          "base_uri": "https://localhost:8080/"
        },
        "id": "Vfv-y_NfpqUC",
        "outputId": "823e1196-96ae-415f-cab9-d2c39fce4b53"
      },
      "execution_count": 11,
      "outputs": [
        {
          "output_type": "stream",
          "name": "stdout",
          "text": [
            "enter the ticket price400\n",
            "enter the number of persons200\n",
            "2.0\n"
          ]
        }
      ]
    },
    {
      "cell_type": "code",
      "source": [
        "n=input('enter the name')\n",
        "v=int(input('enter the ticket fair'))\n",
        "print(n,v)"
      ],
      "metadata": {
        "colab": {
          "base_uri": "https://localhost:8080/"
        },
        "id": "IClA9Ng5rlUD",
        "outputId": "8e3b4327-33e1-4a3c-e866-62d385e14b96"
      },
      "execution_count": 16,
      "outputs": [
        {
          "output_type": "stream",
          "name": "stdout",
          "text": [
            "enter the namehari\n",
            "enter the ticket fair500\n",
            "hari 500\n"
          ]
        }
      ]
    },
    {
      "cell_type": "code",
      "source": [
        "t=int(input('enter the total ticket price'))\n",
        "if t>10000:\n",
        "  print(t,'eligible for discount')\n",
        "else:\n",
        "  print(t,'not eligible')"
      ],
      "metadata": {
        "colab": {
          "base_uri": "https://localhost:8080/"
        },
        "id": "oxzbJEBFsqSx",
        "outputId": "5fda64a4-6d66-46f6-a6b2-f1d7aefbb987"
      },
      "execution_count": 18,
      "outputs": [
        {
          "output_type": "stream",
          "name": "stdout",
          "text": [
            "enter the total ticket price50000\n",
            "50000 eligible for discount\n"
          ]
        }
      ]
    },
    {
      "cell_type": "code",
      "source": [
        "t=int(input('enter the total ticket price'))\n",
        "if t>15000:\n",
        "  print(t,'eligible for 20% discount')\n",
        "else:\n",
        "  print(t,'eligible for 10% discount')"
      ],
      "metadata": {
        "colab": {
          "base_uri": "https://localhost:8080/"
        },
        "id": "efoYSwrdudTY",
        "outputId": "b6dcab39-d3c1-4820-d8ce-bc897dd70060"
      },
      "execution_count": 19,
      "outputs": [
        {
          "output_type": "stream",
          "name": "stdout",
          "text": [
            "enter the total ticket price60000\n",
            "60000 eligible for 20% discount\n"
          ]
        }
      ]
    },
    {
      "cell_type": "code",
      "source": [
        "v=int(input('enter the discount rate'))\n",
        "if v>15000:\n",
        "  t=v*20/100\n",
        "  print(v-t,'discount')\n",
        "elif v>10000:\n",
        "  t=v*10/100\n",
        "  print(v-t,'discount')\n",
        "elif v<10000:\n",
        "  t=v*5/100\n",
        "  print(v-t,'discount')\n",
        "else:\n",
        "  print('no discount')"
      ],
      "metadata": {
        "colab": {
          "base_uri": "https://localhost:8080/"
        },
        "id": "jxK-RVCKvdTB",
        "outputId": "418f8013-0901-4346-fd34-520dfd8ef071"
      },
      "execution_count": 28,
      "outputs": [
        {
          "output_type": "stream",
          "name": "stdout",
          "text": [
            "enter the discount rate50000\n",
            "40000.0 discount\n"
          ]
        }
      ]
    },
    {
      "cell_type": "code",
      "source": [
        "a=int(input('enter the number'))\n",
        "if a>0:\n",
        "  print('positive')\n",
        "elif a<0:\n",
        "  print('negative')\n",
        "else:\n",
        "  print('zero')"
      ],
      "metadata": {
        "colab": {
          "base_uri": "https://localhost:8080/"
        },
        "id": "63Szbb3zw_Hh",
        "outputId": "62bb8a85-c8a6-4b11-9ce4-f1ad212e8339"
      },
      "execution_count": 29,
      "outputs": [
        {
          "output_type": "stream",
          "name": "stdout",
          "text": [
            "enter the number10\n",
            "positive\n"
          ]
        }
      ]
    },
    {
      "cell_type": "code",
      "source": [
        "age=int(input('enter the age'))\n",
        "if age>18:\n",
        "  print('adult')\n",
        "elif age>13 and age<19:\n",
        "  print('teenager')\n",
        "elif age>6 and age<12:\n",
        "  print('kid')\n",
        "elif age>2 and age<5:\n",
        "  print('toddler')\n",
        "elif age<2:\n",
        "  print('infant')"
      ],
      "metadata": {
        "colab": {
          "base_uri": "https://localhost:8080/"
        },
        "id": "JCwXc-PS0VVD",
        "outputId": "ae502cf0-8333-4870-fe26-4025159bb087"
      },
      "execution_count": 31,
      "outputs": [
        {
          "output_type": "stream",
          "name": "stdout",
          "text": [
            "enter the age16\n",
            "teenager\n"
          ]
        }
      ]
    },
    {
      "cell_type": "code",
      "source": [
        "name=input('ENTER THE NAME')\n",
        "if name=='a':\n",
        "  print('its a vowel')\n",
        "elif name=='e':\n",
        "   print('its a vowel')\n",
        "elif name=='i':\n",
        "   print('its a vowel')\n",
        "elif name=='o':\n",
        "   print('its a vowel')\n",
        "elif name==\"u\":\n",
        "   print('its a vowel')\n",
        "else:\n",
        "  print('not a vowel')\n",
        "\n"
      ],
      "metadata": {
        "colab": {
          "base_uri": "https://localhost:8080/"
        },
        "id": "4n7Is1V41vM1",
        "outputId": "d923e6a8-1ba1-4a45-ef4f-e58bfcb228ea"
      },
      "execution_count": 40,
      "outputs": [
        {
          "output_type": "stream",
          "name": "stdout",
          "text": [
            "ENTER THE NAMEv\n",
            "not a vowel\n"
          ]
        }
      ]
    },
    {
      "cell_type": "code",
      "source": [
        "v=input('enter the name')\n",
        "for a in v:"
      ],
      "metadata": {
        "colab": {
          "base_uri": "https://localhost:8080/"
        },
        "id": "py3aDadG3Pv8",
        "outputId": "f7a8f00c-a2ec-477d-e4eb-e76033095d26"
      },
      "execution_count": 41,
      "outputs": [
        {
          "output_type": "stream",
          "name": "stdout",
          "text": [
            "enter the namejohn\n",
            "j\n",
            "o\n",
            "h\n",
            "n\n"
          ]
        }
      ]
    },
    {
      "cell_type": "code",
      "source": [
        "for a in range(44,88):\n",
        "  if a%2!=0:\n",
        "    print(a,'odd')\n"
      ],
      "metadata": {
        "colab": {
          "base_uri": "https://localhost:8080/"
        },
        "id": "SLla_ygJ4r6n",
        "outputId": "3ee47086-3b0f-4f5b-a9b3-5a35e8b514fd"
      },
      "execution_count": 42,
      "outputs": [
        {
          "output_type": "stream",
          "name": "stdout",
          "text": [
            "45 odd\n",
            "47 odd\n",
            "49 odd\n",
            "51 odd\n",
            "53 odd\n",
            "55 odd\n",
            "57 odd\n",
            "59 odd\n",
            "61 odd\n",
            "63 odd\n",
            "65 odd\n",
            "67 odd\n",
            "69 odd\n",
            "71 odd\n",
            "73 odd\n",
            "75 odd\n",
            "77 odd\n",
            "79 odd\n",
            "81 odd\n",
            "83 odd\n",
            "85 odd\n",
            "87 odd\n"
          ]
        }
      ]
    },
    {
      "cell_type": "code",
      "source": [
        "v=0\n",
        "for a in range(1,11):\n",
        "  v=v+a\n",
        "  print(a,v)"
      ],
      "metadata": {
        "colab": {
          "base_uri": "https://localhost:8080/"
        },
        "id": "J_9pDw5N7Ywu",
        "outputId": "e28896a2-0d34-47dc-84c5-a1d44e43560c"
      },
      "execution_count": 45,
      "outputs": [
        {
          "output_type": "stream",
          "name": "stdout",
          "text": [
            "1 1\n",
            "2 3\n",
            "3 6\n",
            "4 10\n",
            "5 15\n",
            "6 21\n",
            "7 28\n",
            "8 36\n",
            "9 45\n",
            "10 55\n"
          ]
        }
      ]
    },
    {
      "cell_type": "code",
      "source": [],
      "metadata": {
        "id": "gMiIyBD87-yR"
      },
      "execution_count": null,
      "outputs": []
    }
  ]
}