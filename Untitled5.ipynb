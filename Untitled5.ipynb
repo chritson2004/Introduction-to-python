{
  "nbformat": 4,
  "nbformat_minor": 0,
  "metadata": {
    "colab": {
      "provenance": [],
      "authorship_tag": "ABX9TyOXBpPwmya9ADjSW2O79mG1",
      "include_colab_link": true
    },
    "kernelspec": {
      "name": "python3",
      "display_name": "Python 3"
    },
    "language_info": {
      "name": "python"
    }
  },
  "cells": [
    {
      "cell_type": "markdown",
      "metadata": {
        "id": "view-in-github",
        "colab_type": "text"
      },
      "source": [
        "<a href=\"https://colab.research.google.com/github/chritson2004/Introduction-to-python/blob/main/Untitled5.ipynb\" target=\"_parent\"><img src=\"https://colab.research.google.com/assets/colab-badge.svg\" alt=\"Open In Colab\"/></a>"
      ]
    },
    {
      "cell_type": "code",
      "execution_count": 1,
      "metadata": {
        "colab": {
          "base_uri": "https://localhost:8080/"
        },
        "id": "TmFShmTN1vU4",
        "outputId": "9e2a55fa-8bae-42a1-f2b5-c5ce98ae5d05"
      },
      "outputs": [
        {
          "output_type": "execute_result",
          "data": {
            "text/plain": [
              "int"
            ]
          },
          "metadata": {},
          "execution_count": 1
        }
      ],
      "source": [
        "num=1\n",
        "type(num)"
      ]
    },
    {
      "cell_type": "code",
      "source": [
        "num=3\n",
        "num2=2.7\n",
        "print(type(num+num2))"
      ],
      "metadata": {
        "colab": {
          "base_uri": "https://localhost:8080/"
        },
        "id": "OZg2DSJg3Ahp",
        "outputId": "c0e88f67-6f73-48ca-99e1-e8435996a389"
      },
      "execution_count": 2,
      "outputs": [
        {
          "output_type": "stream",
          "name": "stdout",
          "text": [
            "<class 'float'>\n"
          ]
        }
      ]
    },
    {
      "cell_type": "code",
      "source": [
        "c=10+5j\n",
        "type(c)\n"
      ],
      "metadata": {
        "colab": {
          "base_uri": "https://localhost:8080/"
        },
        "id": "nylqDdAp3v2g",
        "outputId": "42e416c8-0085-45d7-9ae6-9de00dff2bdf"
      },
      "execution_count": 4,
      "outputs": [
        {
          "output_type": "execute_result",
          "data": {
            "text/plain": [
              "complex"
            ]
          },
          "metadata": {},
          "execution_count": 4
        }
      ]
    },
    {
      "cell_type": "code",
      "source": [
        "name='chritson'\n",
        "type(name)"
      ],
      "metadata": {
        "colab": {
          "base_uri": "https://localhost:8080/"
        },
        "id": "x5hofP4k4Mvg",
        "outputId": "2460c99e-b6dd-4fb1-9773-3ca4f1f6fc55"
      },
      "execution_count": 5,
      "outputs": [
        {
          "output_type": "execute_result",
          "data": {
            "text/plain": [
              "str"
            ]
          },
          "metadata": {},
          "execution_count": 5
        }
      ]
    },
    {
      "cell_type": "markdown",
      "source": [],
      "metadata": {
        "id": "0UQgnl1E6GN8"
      }
    },
    {
      "cell_type": "code",
      "source": [
        "friends=['Jaseem','sebastain','asik','donal','robin']\n",
        "fri=['vishnu','farzan','john','vasu','naveen']\n",
        "print(friends+fri)\n",
        "#print(friends.pop(-1))\n",
        "#print(friends)\n",
        "\n",
        "type(friends)\n",
        "print(friends[1])\n",
        "print(friends[0])"
      ],
      "metadata": {
        "colab": {
          "base_uri": "https://localhost:8080/"
        },
        "id": "1oACBATv4dyP",
        "outputId": "d461d8b4-e8aa-43f7-e0d5-cc818456d99c"
      },
      "execution_count": 17,
      "outputs": [
        {
          "output_type": "stream",
          "name": "stdout",
          "text": [
            "['Jaseem', 'sebastain', 'asik', 'donal', 'robin', 'vishnu', 'farzan', 'john', 'vasu', 'naveen']\n",
            "robin\n",
            "['Jaseem', 'sebastain', 'asik', 'donal']\n",
            "sebastain\n",
            "Jaseem\n"
          ]
        }
      ]
    },
    {
      "cell_type": "code",
      "source": [
        "print(friends.append('hari'))"
      ],
      "metadata": {
        "colab": {
          "base_uri": "https://localhost:8080/"
        },
        "id": "3u3tq-UP53rE",
        "outputId": "dae79106-4fba-4f9f-a326-22c18f6bd9fa"
      },
      "execution_count": 21,
      "outputs": [
        {
          "output_type": "stream",
          "name": "stdout",
          "text": [
            "None\n"
          ]
        }
      ]
    },
    {
      "cell_type": "code",
      "source": [
        "print(friends)"
      ],
      "metadata": {
        "colab": {
          "base_uri": "https://localhost:8080/"
        },
        "id": "aDZehAK5-FL2",
        "outputId": "81044d00-c8d2-4f80-96c9-50cc569218dc"
      },
      "execution_count": 22,
      "outputs": [
        {
          "output_type": "stream",
          "name": "stdout",
          "text": [
            "['Jaseem', 'sebastain', 'asik', 'donal', 'hari']\n"
          ]
        }
      ]
    },
    {
      "cell_type": "code",
      "source": [
        "friends[0]='hari'"
      ],
      "metadata": {
        "id": "fI81jidq-j1z"
      },
      "execution_count": 23,
      "outputs": []
    },
    {
      "cell_type": "code",
      "source": [
        "print(friends)"
      ],
      "metadata": {
        "colab": {
          "base_uri": "https://localhost:8080/"
        },
        "id": "6JAOnWLZ_QlL",
        "outputId": "1ca9c2cc-37c8-452b-f7a1-6da1b3fcabc7"
      },
      "execution_count": 24,
      "outputs": [
        {
          "output_type": "stream",
          "name": "stdout",
          "text": [
            "['hari', 'sebastain', 'asik', 'donal', 'hari']\n"
          ]
        }
      ]
    },
    {
      "cell_type": "code",
      "source": [
        "print(friends.sort())"
      ],
      "metadata": {
        "colab": {
          "base_uri": "https://localhost:8080/"
        },
        "id": "8BocYPyV_TOj",
        "outputId": "5f1f405a-19da-4523-f01a-6795b55d4fdc"
      },
      "execution_count": 31,
      "outputs": [
        {
          "output_type": "stream",
          "name": "stdout",
          "text": [
            "None\n"
          ]
        }
      ]
    },
    {
      "cell_type": "code",
      "source": [
        "print(friends)"
      ],
      "metadata": {
        "colab": {
          "base_uri": "https://localhost:8080/"
        },
        "id": "2hLmKZbj_jYL",
        "outputId": "3a428a61-1e8b-4201-db81-9ff28d384a35"
      },
      "execution_count": 32,
      "outputs": [
        {
          "output_type": "stream",
          "name": "stdout",
          "text": [
            "['asik', 'donal', 'hari', 'hari', 'sebastain']\n"
          ]
        }
      ]
    },
    {
      "cell_type": "code",
      "source": [
        "print(friends.reverse())"
      ],
      "metadata": {
        "colab": {
          "base_uri": "https://localhost:8080/"
        },
        "id": "52wCuUeg_mqj",
        "outputId": "8af1b65a-9f3a-4c4c-8e9f-c2d5f74198b2"
      },
      "execution_count": 29,
      "outputs": [
        {
          "output_type": "stream",
          "name": "stdout",
          "text": [
            "None\n"
          ]
        }
      ]
    },
    {
      "cell_type": "code",
      "source": [
        "print(friends)"
      ],
      "metadata": {
        "colab": {
          "base_uri": "https://localhost:8080/"
        },
        "id": "-ePl4z37_uWb",
        "outputId": "9e9ce1c1-a52e-4560-a18f-1300922595bb"
      },
      "execution_count": 30,
      "outputs": [
        {
          "output_type": "stream",
          "name": "stdout",
          "text": [
            "['hari', 'donal', 'asik', 'sebastain', 'hari']\n"
          ]
        }
      ]
    },
    {
      "cell_type": "code",
      "source": [
        "print(friends.insert(6,'giga'))"
      ],
      "metadata": {
        "colab": {
          "base_uri": "https://localhost:8080/"
        },
        "id": "Wx85Pz5__xPb",
        "outputId": "c5f0fcfd-5dc2-436b-e656-4c50ab581e50"
      },
      "execution_count": 33,
      "outputs": [
        {
          "output_type": "stream",
          "name": "stdout",
          "text": [
            "None\n"
          ]
        }
      ]
    },
    {
      "cell_type": "code",
      "source": [
        "print(friends)"
      ],
      "metadata": {
        "colab": {
          "base_uri": "https://localhost:8080/"
        },
        "id": "RZuXHN6bAu8w",
        "outputId": "ba3ac8e5-f287-48f2-bb66-1683f5296761"
      },
      "execution_count": 34,
      "outputs": [
        {
          "output_type": "stream",
          "name": "stdout",
          "text": [
            "['asik', 'donal', 'hari', 'hari', 'sebastain', 'giga']\n"
          ]
        }
      ]
    },
    {
      "cell_type": "code",
      "source": [
        "friends[0]='appu'"
      ],
      "metadata": {
        "id": "z-MGoic6AxN2"
      },
      "execution_count": 37,
      "outputs": []
    },
    {
      "cell_type": "code",
      "source": [
        "print(friends)"
      ],
      "metadata": {
        "colab": {
          "base_uri": "https://localhost:8080/"
        },
        "id": "nGI8LdjfC7C2",
        "outputId": "d4fc97e8-93c8-42de-aa40-077504c0005e"
      },
      "execution_count": 38,
      "outputs": [
        {
          "output_type": "stream",
          "name": "stdout",
          "text": [
            "['appu', 'donal', 'hari', 'hari', 'sebastain', 'giga']\n"
          ]
        }
      ]
    },
    {
      "cell_type": "code",
      "source": [
        "v={1,2,3,4,5,6,7,8}\n",
        "type(v)"
      ],
      "metadata": {
        "colab": {
          "base_uri": "https://localhost:8080/"
        },
        "id": "wtNnz8w1C-J9",
        "outputId": "b12ae7fd-da5f-4104-8ea5-bd29cee3260b"
      },
      "execution_count": 40,
      "outputs": [
        {
          "output_type": "execute_result",
          "data": {
            "text/plain": [
              "set"
            ]
          },
          "metadata": {},
          "execution_count": 40
        }
      ]
    },
    {
      "cell_type": "code",
      "source": [
        "marks=[10,20,20,30,40]\n",
        "marks2 =set(marks)\n",
        "print(marks2)"
      ],
      "metadata": {
        "colab": {
          "base_uri": "https://localhost:8080/"
        },
        "id": "QhsmXWqbEmVO",
        "outputId": "8f4d2789-c561-4ede-d8a4-a1ca25b37174"
      },
      "execution_count": 44,
      "outputs": [
        {
          "output_type": "stream",
          "name": "stdout",
          "text": [
            "{40, 10, 20, 30}\n"
          ]
        }
      ]
    },
    {
      "cell_type": "code",
      "source": [
        "h={1,2,4,5,6,6}\n",
        "print(h)"
      ],
      "metadata": {
        "colab": {
          "base_uri": "https://localhost:8080/"
        },
        "id": "dUzPqAdMGFHz",
        "outputId": "369b5743-c599-4091-8f87-02e265b1e1aa"
      },
      "execution_count": 45,
      "outputs": [
        {
          "output_type": "stream",
          "name": "stdout",
          "text": [
            "{1, 2, 4, 5, 6}\n"
          ]
        }
      ]
    },
    {
      "cell_type": "code",
      "source": [
        "details={'name':'chritson','number':10,'place':'kochi'}\n",
        "print(details)\n",
        "details['year']=2004\n",
        "details['name']='hari'\n",
        "print(details)"
      ],
      "metadata": {
        "colab": {
          "base_uri": "https://localhost:8080/"
        },
        "id": "-qtmDFxDHnnX",
        "outputId": "23882bb4-0db1-4c16-8d17-7501a8f1d8da"
      },
      "execution_count": 49,
      "outputs": [
        {
          "output_type": "stream",
          "name": "stdout",
          "text": [
            "{'name': 'chritson', 'number': 10, 'place': 'kochi'}\n",
            "{'name': 'hari', 'number': 10, 'place': 'kochi', 'year': 2004}\n"
          ]
        }
      ]
    },
    {
      "cell_type": "code",
      "source": [
        "def add(x,y):\n",
        "  return(x+y)\n",
        "add(2,3)"
      ],
      "metadata": {
        "colab": {
          "base_uri": "https://localhost:8080/"
        },
        "id": "vuNp38QUIxiT",
        "outputId": "673c6dd5-a619-47f4-b703-3c5f0b4dc87a"
      },
      "execution_count": 52,
      "outputs": [
        {
          "output_type": "execute_result",
          "data": {
            "text/plain": [
              "5"
            ]
          },
          "metadata": {},
          "execution_count": 52
        }
      ]
    },
    {
      "cell_type": "code",
      "source": [
        "def mul(x,y,z):\n",
        "  return(x*y*z)\n",
        "mul(2,3,6)"
      ],
      "metadata": {
        "colab": {
          "base_uri": "https://localhost:8080/"
        },
        "id": "jByvRkf-K137",
        "outputId": "57cbdc65-c37c-4086-f265-29c9b8564898"
      },
      "execution_count": 53,
      "outputs": [
        {
          "output_type": "execute_result",
          "data": {
            "text/plain": [
              "36"
            ]
          },
          "metadata": {},
          "execution_count": 53
        }
      ]
    },
    {
      "cell_type": "code",
      "source": [],
      "metadata": {
        "id": "DkiJOpYgMlMk"
      },
      "execution_count": null,
      "outputs": []
    }
  ]
}