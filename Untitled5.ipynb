{
  "nbformat": 4,
  "nbformat_minor": 0,
  "metadata": {
    "colab": {
      "provenance": [],
      "authorship_tag": "ABX9TyMV1aRlNn3shyQh14p+mnzR",
      "include_colab_link": true
    },
    "kernelspec": {
      "name": "python3",
      "display_name": "Python 3"
    },
    "language_info": {
      "name": "python"
    }
  },
  "cells": [
    {
      "cell_type": "markdown",
      "metadata": {
        "id": "view-in-github",
        "colab_type": "text"
      },
      "source": [
        "<a href=\"https://colab.research.google.com/github/chritson2004/Introduction-to-python/blob/main/Untitled5.ipynb\" target=\"_parent\"><img src=\"https://colab.research.google.com/assets/colab-badge.svg\" alt=\"Open In Colab\"/></a>"
      ]
    },
    {
      "cell_type": "code",
      "execution_count": null,
      "metadata": {
        "id": "zAtKdYieq4B4"
      },
      "outputs": [],
      "source": [
        "def chritson():\n",
        "  print('****hello world****')\n",
        "  "
      ]
    },
    {
      "cell_type": "code",
      "source": [
        "chritson()"
      ],
      "metadata": {
        "colab": {
          "base_uri": "https://localhost:8080/"
        },
        "id": "ykf5TQLFrgCF",
        "outputId": "935e0f3f-f370-4e34-f95a-5ac54a86cea7"
      },
      "execution_count": null,
      "outputs": [
        {
          "output_type": "stream",
          "name": "stdout",
          "text": [
            "****hello world****\n"
          ]
        }
      ]
    },
    {
      "cell_type": "code",
      "source": [
        "def chritson(x,y):\n",
        "  z=x+y\n",
        "  print('Result = ' ,z)"
      ],
      "metadata": {
        "id": "Zye8u8MRs8O5"
      },
      "execution_count": null,
      "outputs": []
    },
    {
      "cell_type": "code",
      "source": [
        "chritson(2,3)"
      ],
      "metadata": {
        "colab": {
          "base_uri": "https://localhost:8080/"
        },
        "id": "ksLWLBHCu1BC",
        "outputId": "4163a764-2028-40e4-bf83-3d476aedb152"
      },
      "execution_count": null,
      "outputs": [
        {
          "output_type": "stream",
          "name": "stdout",
          "text": [
            "Result =  5\n"
          ]
        }
      ]
    },
    {
      "cell_type": "code",
      "source": [
        "if chritson(sal)>250000:\n",
        "    print('you are taxable')\n",
        "  else:\n",
        "    print('you are not taxable')\n"
      ],
      "metadata": {
        "id": "I1R9iW-1w1K9"
      },
      "execution_count": null,
      "outputs": []
    },
    {
      "cell_type": "code",
      "source": [
        "sal=int(input('enter salary'))\n",
        "chritson(sal)\n",
        "def chritson(sal):\n",
        "  if chritson(sal)>250000:\n",
        "    print('you are taxable')\n",
        "  else:\n",
        "    print('you are not taxable')\n",
        "  "
      ],
      "metadata": {
        "colab": {
          "base_uri": "https://localhost:8080/"
        },
        "id": "5SCDlQwBu3PL",
        "outputId": "342e26f7-5b7d-49b3-9932-a5e80e32413f"
      },
      "execution_count": null,
      "outputs": [
        {
          "output_type": "stream",
          "name": "stdout",
          "text": [
            "enter salary300000\n",
            "you are taxable\n"
          ]
        }
      ]
    },
    {
      "cell_type": "code",
      "source": [
        "def chritson(y):\n",
        "  k=0\n",
        "  for a in range(y):\n",
        "    k=k+a\n",
        "  print(k)"
      ],
      "metadata": {
        "id": "lxvWwaStyAK4"
      },
      "execution_count": 26,
      "outputs": []
    },
    {
      "cell_type": "code",
      "source": [
        "x=int(input('enter a number'))\n",
        "chritson(x)"
      ],
      "metadata": {
        "colab": {
          "base_uri": "https://localhost:8080/"
        },
        "id": "SiqYaoBl2k8U",
        "outputId": "b536e994-cbdb-456c-90e6-90794d02bb81"
      },
      "execution_count": 27,
      "outputs": [
        {
          "output_type": "stream",
          "name": "stdout",
          "text": [
            "enter a number300\n",
            "44850\n"
          ]
        }
      ]
    },
    {
      "cell_type": "code",
      "source": [
        "def add(x,y):\n",
        "  print(x+y)\n",
        "def sub(x,y):\n",
        "  print(x-y)\n",
        "def mul(x,y):\n",
        "  print(x*y)\n",
        "def div(x,y):\n",
        "  print(x/y)\n",
        "x=int(input('enter the number'))\n",
        "y=int(input('enter the number'))\n",
        "add(x,y)\n",
        "sub(x,y)\n",
        "mul(x,y)\n",
        "div(x,y)\n"
      ],
      "metadata": {
        "colab": {
          "base_uri": "https://localhost:8080/"
        },
        "id": "9NxQzguh5Ux8",
        "outputId": "db09c4ec-c0e0-4ae5-9a14-454153473f7a"
      },
      "execution_count": 32,
      "outputs": [
        {
          "output_type": "stream",
          "name": "stdout",
          "text": [
            "enter the number10\n",
            "enter the number20\n",
            "30\n",
            "-10\n",
            "200\n",
            "0.5\n"
          ]
        }
      ]
    },
    {
      "cell_type": "code",
      "source": [],
      "metadata": {
        "id": "PEgKV0Ao8jed"
      },
      "execution_count": null,
      "outputs": []
    }
  ]
}