{
  "nbformat": 4,
  "nbformat_minor": 0,
  "metadata": {
    "colab": {
      "provenance": [],
      "authorship_tag": "ABX9TyPm6BuBwfvROErufrXYwIGb",
      "include_colab_link": true
    },
    "kernelspec": {
      "name": "python3",
      "display_name": "Python 3"
    },
    "language_info": {
      "name": "python"
    }
  },
  "cells": [
    {
      "cell_type": "markdown",
      "metadata": {
        "id": "view-in-github",
        "colab_type": "text"
      },
      "source": [
        "<a href=\"https://colab.research.google.com/github/chritson2004/Introduction-to-python/blob/main/Untitled2.ipynb\" target=\"_parent\"><img src=\"https://colab.research.google.com/assets/colab-badge.svg\" alt=\"Open In Colab\"/></a>"
      ]
    },
    {
      "cell_type": "code",
      "execution_count": null,
      "metadata": {
        "id": "JbqU-8KvpivE"
      },
      "outputs": [],
      "source": [
        "sal=int(input('enter sal'))\n",
        "if sal<250000:\n",
        "  print('no tax')\n",
        "if sal>250000 and sal<500000:\n",
        "  print((sal-250000)*10/100,'taxable')\n",
        "if sal>500000 and sal<750000:\n",
        "  print((sal-500000)*20/100,'taxable')\n",
        "if sal>=750000:\n",
        "  x=250000*10/100\n",
        "  y=250000*20/100  \n",
        "  z=(sal-750000)*30/100\n",
        "  print('tax',x+y+z)\n",
        "if sal>=750000 and sal<100000:\n",
        "  x=250000*10/100\n",
        "  y=250000*20/100\n",
        "  z=(sal-750000)*30/100\n",
        "  v=(sal-100000)*2/100\n",
        "  print('tax',x+y+z+v)"
      ]
    },
    {
      "cell_type": "code",
      "source": [],
      "metadata": {
        "id": "JoNUcSsBtuR8"
      },
      "execution_count": null,
      "outputs": []
    }
  ]
}