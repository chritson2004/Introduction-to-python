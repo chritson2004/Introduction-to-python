{
  "nbformat": 4,
  "nbformat_minor": 0,
  "metadata": {
    "colab": {
      "provenance": [],
      "authorship_tag": "ABX9TyMdiA7LWDMuc+AeoP9SWdiy",
      "include_colab_link": true
    },
    "kernelspec": {
      "name": "python3",
      "display_name": "Python 3"
    },
    "language_info": {
      "name": "python"
    }
  },
  "cells": [
    {
      "cell_type": "markdown",
      "metadata": {
        "id": "view-in-github",
        "colab_type": "text"
      },
      "source": [
        "<a href=\"https://colab.research.google.com/github/chritson2004/Introduction-to-python/blob/main/Untitled1.ipynb\" target=\"_parent\"><img src=\"https://colab.research.google.com/assets/colab-badge.svg\" alt=\"Open In Colab\"/></a>"
      ]
    },
    {
      "cell_type": "code",
      "execution_count": 1,
      "metadata": {
        "id": "JFjBEhVugKaj"
      },
      "outputs": [],
      "source": [
        "x=8"
      ]
    },
    {
      "cell_type": "code",
      "source": [
        "x"
      ],
      "metadata": {
        "colab": {
          "base_uri": "https://localhost:8080/"
        },
        "id": "RndkeRw0gRCX",
        "outputId": "5a5afc12-f52e-4f05-bb02-b507536597d8"
      },
      "execution_count": 2,
      "outputs": [
        {
          "output_type": "execute_result",
          "data": {
            "text/plain": [
              "8"
            ]
          },
          "metadata": {},
          "execution_count": 2
        }
      ]
    },
    {
      "cell_type": "code",
      "source": [
        "mark=int(input('enter the marks'))\n",
        "if mark >50:\n",
        "  print('you have passed')\n",
        "if mark <50:\n",
        "  print('you have failed')"
      ],
      "metadata": {
        "colab": {
          "base_uri": "https://localhost:8080/"
        },
        "id": "DDKIl-V2gUgN",
        "outputId": "84d46f97-d571-4b87-ee38-4c98eee9df00"
      },
      "execution_count": 3,
      "outputs": [
        {
          "output_type": "stream",
          "name": "stdout",
          "text": [
            "enter the marks75575\n",
            "you have passed\n"
          ]
        }
      ]
    },
    {
      "cell_type": "code",
      "source": [
        "if mark >50:\n",
        "  print('you have passed')\n",
        "if mark <50:\n",
        "  print('you have failed')"
      ],
      "metadata": {
        "colab": {
          "base_uri": "https://localhost:8080/"
        },
        "id": "WEppnSENhVm1",
        "outputId": "768c9441-b9a5-4ae3-83af-91b9dd0484f6"
      },
      "execution_count": 4,
      "outputs": [
        {
          "output_type": "stream",
          "name": "stdout",
          "text": [
            "you have passed\n"
          ]
        }
      ]
    },
    {
      "cell_type": "code",
      "source": [
        "mark=int(input('enter the marks'))\n",
        "if mark >50:\n",
        "  print('you have passed')\n",
        "if mark <50:\n",
        "  print('you have failed')\n",
        "if mark == 50:\n",
        "  print('just passed')\n"
      ],
      "metadata": {
        "colab": {
          "base_uri": "https://localhost:8080/"
        },
        "id": "z1uDfWvrh4MR",
        "outputId": "5888acad-1512-4c9d-9ec7-a32eabbc7517"
      },
      "execution_count": 5,
      "outputs": [
        {
          "output_type": "stream",
          "name": "stdout",
          "text": [
            "enter the marks55\n",
            "you have passed\n"
          ]
        }
      ]
    },
    {
      "cell_type": "code",
      "source": [
        "sal=int(input('enter salary'))\n",
        "if sal>250000:\n",
        "  print('taxable')\n",
        "  l=sal*10/100\n",
        "  print(l)\n",
        "if sal<250000:\n",
        "  print('not taxable')\n",
        "if sal==250000:\n",
        "  print('taxed')"
      ],
      "metadata": {
        "colab": {
          "base_uri": "https://localhost:8080/"
        },
        "outputId": "f0cf86fd-2d43-4fca-9a20-c345f3a6ee26",
        "id": "QgKxWIgojZ78"
      },
      "execution_count": 6,
      "outputs": [
        {
          "output_type": "stream",
          "name": "stdout",
          "text": [
            "enter salary35\n",
            "not taxable\n"
          ]
        }
      ]
    },
    {
      "cell_type": "code",
      "source": [
        "sal=int(input('enter salary'))\n",
        "if sal>250000:\n",
        "  print('taxable')\n",
        "  s=sal-250000\n",
        "  print(s)\n",
        "  l=s*10/100\n",
        "  print(l)\n",
        "if sal<250000:\n",
        "  print('not taxable')\n",
        "if sal==250000:\n",
        "  print('taxed')"
      ],
      "metadata": {
        "colab": {
          "base_uri": "https://localhost:8080/"
        },
        "id": "c7BilD6VljXh",
        "outputId": "67cc8505-8dbb-4ca6-e6c6-2237e9d9f668"
      },
      "execution_count": 7,
      "outputs": [
        {
          "output_type": "stream",
          "name": "stdout",
          "text": [
            "enter salary32\n",
            "not taxable\n"
          ]
        }
      ]
    },
    {
      "cell_type": "code",
      "source": [
        "sal=int(input('enter sal'))\n",
        "if sal<250000:\n",
        "  print('not taxable')\n",
        "if sal>250000 and sal<500000:\n",
        "  print((sal-250000)*10/100,'taxable')\n",
        "if sal>500000:\n",
        "  print((sal-250000*10/100+(sal-500000)*20/100),'taxable')"
      ],
      "metadata": {
        "colab": {
          "base_uri": "https://localhost:8080/"
        },
        "id": "XAbzLnzlpr7Y",
        "outputId": "2c72ac6a-e7d2-4aeb-aeca-39cdbf4c181f"
      },
      "execution_count": 8,
      "outputs": [
        {
          "output_type": "stream",
          "name": "stdout",
          "text": [
            "enter sal5\n",
            "not taxable\n"
          ]
        }
      ]
    },
    {
      "cell_type": "code",
      "source": [
        "57587\n",
        "5353\n",
        "533535\n",
        "55442\n",
        "2543"
      ],
      "metadata": {
        "id": "2pgg1r87sueV"
      },
      "execution_count": 8,
      "outputs": []
    }
  ]
}